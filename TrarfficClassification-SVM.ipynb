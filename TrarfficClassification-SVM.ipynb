{
 "cells": [
  {
   "cell_type": "code",
   "execution_count": 126,
   "id": "9ec1d093",
   "metadata": {},
   "outputs": [],
   "source": [
    "import numpy as np\n",
    "import pandas as pd\n",
    "import pickle\n",
    "\n",
    "\n",
    "# plotting libraries\n",
    "\n",
    "import seaborn as sns\n",
    "import matplotlib.pyplot as plt\n",
    "\n",
    "# sklearn libraries\n",
    "\n",
    "from sklearn.preprocessing import StandardScaler\n",
    "from sklearn.preprocessing import label_binarize\n",
    "from sklearn.model_selection import train_test_split\n",
    "from sklearn.decomposition import PCA\n",
    "from sklearn.linear_model import LogisticRegression\n",
    "from sklearn.cluster import DBSCAN, KMeans\n",
    "from sklearn.metrics import accuracy_score, classification_report, confusion_matrix\n",
    "\n",
    "import os, warnings\n",
    "\n",
    "# Filter warnings\n",
    "\n",
    "warnings.filterwarnings('ignore') #filter warnings\n",
    "\n",
    "# Show plots inline\n",
    "\n",
    "%matplotlib inline\n"
   ]
  },
  {
   "cell_type": "code",
   "execution_count": 127,
   "id": "ba68cb65",
   "metadata": {},
   "outputs": [],
   "source": [
    "ping_df = pd.read_csv('ping_training_data.csv', delimiter='\\t')\n",
    "voice_df = pd.read_csv('voice_training_data.csv', delimiter='\\t')\n",
    "dns_df = pd.read_csv('dns_training_data.csv', delimiter='\\t')\n",
    "telnet_df = pd.read_csv('telnet_training_data.csv', delimiter='\\t')\n",
    "\n",
    "df = pd.concat([ping_df, voice_df, dns_df, telnet_df], ignore_index=True)"
   ]
  },
  {
   "cell_type": "code",
   "execution_count": 128,
   "id": "f7c4cf3b",
   "metadata": {},
   "outputs": [],
   "source": [
    "df.dropna(inplace=True)"
   ]
  },
  {
   "cell_type": "code",
   "execution_count": 129,
   "id": "55c99b3d",
   "metadata": {},
   "outputs": [],
   "source": [
    "df.drop('Forward Packets', axis=1, inplace=True)\n",
    "df.drop('Forward Bytes', axis=1, inplace=True)\n",
    "df.drop('Reverse Packets', axis=1, inplace=True)\n",
    "df.drop('Reverse Bytes', axis=1, inplace=True)"
   ]
  },
  {
   "cell_type": "code",
   "execution_count": 130,
   "id": "a2c18e29",
   "metadata": {},
   "outputs": [
    {
     "name": "stdout",
     "output_type": "stream",
     "text": [
      "(5242, 13)\n"
     ]
    }
   ],
   "source": [
    "print(df.shape)"
   ]
  },
  {
   "cell_type": "code",
   "execution_count": 131,
   "id": "ae511ab1",
   "metadata": {},
   "outputs": [
    {
     "data": {
      "text/html": [
       "<div>\n",
       "<style scoped>\n",
       "    .dataframe tbody tr th:only-of-type {\n",
       "        vertical-align: middle;\n",
       "    }\n",
       "\n",
       "    .dataframe tbody tr th {\n",
       "        vertical-align: top;\n",
       "    }\n",
       "\n",
       "    .dataframe thead th {\n",
       "        text-align: right;\n",
       "    }\n",
       "</style>\n",
       "<table border=\"1\" class=\"dataframe\">\n",
       "  <thead>\n",
       "    <tr style=\"text-align: right;\">\n",
       "      <th></th>\n",
       "      <th>Delta Forward Packets</th>\n",
       "      <th>Delta Forward Bytes</th>\n",
       "      <th>Forward Instantaneous Packets per Second</th>\n",
       "      <th>Forward Average Packets per second</th>\n",
       "      <th>Forward Instantaneous Bytes per Second</th>\n",
       "      <th>Forward Average Bytes per second</th>\n",
       "      <th>Delta Reverse Packets</th>\n",
       "      <th>Delta Reverse Bytes</th>\n",
       "      <th>DeltaReverse Instantaneous Packets per Second</th>\n",
       "      <th>Reverse Average Packets per second</th>\n",
       "      <th>Reverse Instantaneous Bytes per Second</th>\n",
       "      <th>Reverse Average Bytes per second</th>\n",
       "    </tr>\n",
       "  </thead>\n",
       "  <tbody>\n",
       "    <tr>\n",
       "      <th>count</th>\n",
       "      <td>5242.000000</td>\n",
       "      <td>5242.000000</td>\n",
       "      <td>5242.000000</td>\n",
       "      <td>5242.000000</td>\n",
       "      <td>5242.000000</td>\n",
       "      <td>5242.000000</td>\n",
       "      <td>5242.000000</td>\n",
       "      <td>5242.000000</td>\n",
       "      <td>5242.000000</td>\n",
       "      <td>5242.000000</td>\n",
       "      <td>5242.000000</td>\n",
       "      <td>5242.000000</td>\n",
       "    </tr>\n",
       "    <tr>\n",
       "      <th>mean</th>\n",
       "      <td>7.814765</td>\n",
       "      <td>682.359214</td>\n",
       "      <td>7.763640</td>\n",
       "      <td>6.094360</td>\n",
       "      <td>677.842999</td>\n",
       "      <td>530.202926</td>\n",
       "      <td>17.525754</td>\n",
       "      <td>2070.781000</td>\n",
       "      <td>17.447921</td>\n",
       "      <td>15.710718</td>\n",
       "      <td>2064.795498</td>\n",
       "      <td>1943.829194</td>\n",
       "    </tr>\n",
       "    <tr>\n",
       "      <th>std</th>\n",
       "      <td>27.445539</td>\n",
       "      <td>2417.020821</td>\n",
       "      <td>27.343341</td>\n",
       "      <td>10.656380</td>\n",
       "      <td>2407.997270</td>\n",
       "      <td>937.773493</td>\n",
       "      <td>31.726859</td>\n",
       "      <td>3404.747532</td>\n",
       "      <td>31.645749</td>\n",
       "      <td>18.427478</td>\n",
       "      <td>3401.356026</td>\n",
       "      <td>2739.969899</td>\n",
       "    </tr>\n",
       "    <tr>\n",
       "      <th>min</th>\n",
       "      <td>0.000000</td>\n",
       "      <td>0.000000</td>\n",
       "      <td>0.000000</td>\n",
       "      <td>0.000000</td>\n",
       "      <td>0.000000</td>\n",
       "      <td>0.000000</td>\n",
       "      <td>0.000000</td>\n",
       "      <td>0.000000</td>\n",
       "      <td>0.000000</td>\n",
       "      <td>0.000000</td>\n",
       "      <td>0.000000</td>\n",
       "      <td>0.000000</td>\n",
       "    </tr>\n",
       "    <tr>\n",
       "      <th>25%</th>\n",
       "      <td>0.000000</td>\n",
       "      <td>0.000000</td>\n",
       "      <td>0.000000</td>\n",
       "      <td>0.909309</td>\n",
       "      <td>0.000000</td>\n",
       "      <td>62.009611</td>\n",
       "      <td>1.000000</td>\n",
       "      <td>71.000000</td>\n",
       "      <td>1.000000</td>\n",
       "      <td>1.020725</td>\n",
       "      <td>71.000000</td>\n",
       "      <td>98.670691</td>\n",
       "    </tr>\n",
       "    <tr>\n",
       "      <th>50%</th>\n",
       "      <td>1.000000</td>\n",
       "      <td>66.000000</td>\n",
       "      <td>1.000000</td>\n",
       "      <td>1.021459</td>\n",
       "      <td>66.000000</td>\n",
       "      <td>98.762821</td>\n",
       "      <td>1.000000</td>\n",
       "      <td>98.000000</td>\n",
       "      <td>1.000000</td>\n",
       "      <td>1.430508</td>\n",
       "      <td>98.000000</td>\n",
       "      <td>192.470941</td>\n",
       "    </tr>\n",
       "    <tr>\n",
       "      <th>75%</th>\n",
       "      <td>1.000000</td>\n",
       "      <td>98.000000</td>\n",
       "      <td>1.000000</td>\n",
       "      <td>1.038462</td>\n",
       "      <td>98.000000</td>\n",
       "      <td>99.485632</td>\n",
       "      <td>37.000000</td>\n",
       "      <td>3696.000000</td>\n",
       "      <td>37.000000</td>\n",
       "      <td>34.969697</td>\n",
       "      <td>3541.000000</td>\n",
       "      <td>2313.000000</td>\n",
       "    </tr>\n",
       "    <tr>\n",
       "      <th>max</th>\n",
       "      <td>211.000000</td>\n",
       "      <td>18581.000000</td>\n",
       "      <td>211.000000</td>\n",
       "      <td>76.750000</td>\n",
       "      <td>18581.000000</td>\n",
       "      <td>6711.000000</td>\n",
       "      <td>210.000000</td>\n",
       "      <td>15484.000000</td>\n",
       "      <td>210.000000</td>\n",
       "      <td>76.500000</td>\n",
       "      <td>15484.000000</td>\n",
       "      <td>7054.188679</td>\n",
       "    </tr>\n",
       "  </tbody>\n",
       "</table>\n",
       "</div>"
      ],
      "text/plain": [
       "       Delta Forward Packets  Delta Forward Bytes  \\\n",
       "count            5242.000000          5242.000000   \n",
       "mean                7.814765           682.359214   \n",
       "std                27.445539          2417.020821   \n",
       "min                 0.000000             0.000000   \n",
       "25%                 0.000000             0.000000   \n",
       "50%                 1.000000            66.000000   \n",
       "75%                 1.000000            98.000000   \n",
       "max               211.000000         18581.000000   \n",
       "\n",
       "       Forward Instantaneous Packets per Second  \\\n",
       "count                               5242.000000   \n",
       "mean                                   7.763640   \n",
       "std                                   27.343341   \n",
       "min                                    0.000000   \n",
       "25%                                    0.000000   \n",
       "50%                                    1.000000   \n",
       "75%                                    1.000000   \n",
       "max                                  211.000000   \n",
       "\n",
       "       Forward Average Packets per second  \\\n",
       "count                         5242.000000   \n",
       "mean                             6.094360   \n",
       "std                             10.656380   \n",
       "min                              0.000000   \n",
       "25%                              0.909309   \n",
       "50%                              1.021459   \n",
       "75%                              1.038462   \n",
       "max                             76.750000   \n",
       "\n",
       "       Forward Instantaneous Bytes per Second  \\\n",
       "count                             5242.000000   \n",
       "mean                               677.842999   \n",
       "std                               2407.997270   \n",
       "min                                  0.000000   \n",
       "25%                                  0.000000   \n",
       "50%                                 66.000000   \n",
       "75%                                 98.000000   \n",
       "max                              18581.000000   \n",
       "\n",
       "       Forward Average Bytes per second  Delta Reverse Packets  \\\n",
       "count                       5242.000000            5242.000000   \n",
       "mean                         530.202926              17.525754   \n",
       "std                          937.773493              31.726859   \n",
       "min                            0.000000               0.000000   \n",
       "25%                           62.009611               1.000000   \n",
       "50%                           98.762821               1.000000   \n",
       "75%                           99.485632              37.000000   \n",
       "max                         6711.000000             210.000000   \n",
       "\n",
       "       Delta Reverse Bytes  DeltaReverse Instantaneous Packets per Second  \\\n",
       "count          5242.000000                                    5242.000000   \n",
       "mean           2070.781000                                      17.447921   \n",
       "std            3404.747532                                      31.645749   \n",
       "min               0.000000                                       0.000000   \n",
       "25%              71.000000                                       1.000000   \n",
       "50%              98.000000                                       1.000000   \n",
       "75%            3696.000000                                      37.000000   \n",
       "max           15484.000000                                     210.000000   \n",
       "\n",
       "       Reverse Average Packets per second  \\\n",
       "count                         5242.000000   \n",
       "mean                            15.710718   \n",
       "std                             18.427478   \n",
       "min                              0.000000   \n",
       "25%                              1.020725   \n",
       "50%                              1.430508   \n",
       "75%                             34.969697   \n",
       "max                             76.500000   \n",
       "\n",
       "       Reverse Instantaneous Bytes per Second  \\\n",
       "count                             5242.000000   \n",
       "mean                              2064.795498   \n",
       "std                               3401.356026   \n",
       "min                                  0.000000   \n",
       "25%                                 71.000000   \n",
       "50%                                 98.000000   \n",
       "75%                               3541.000000   \n",
       "max                              15484.000000   \n",
       "\n",
       "       Reverse Average Bytes per second  \n",
       "count                       5242.000000  \n",
       "mean                        1943.829194  \n",
       "std                         2739.969899  \n",
       "min                            0.000000  \n",
       "25%                           98.670691  \n",
       "50%                          192.470941  \n",
       "75%                         2313.000000  \n",
       "max                         7054.188679  "
      ]
     },
     "execution_count": 131,
     "metadata": {},
     "output_type": "execute_result"
    }
   ],
   "source": [
    "df.describe()"
   ]
  },
  {
   "cell_type": "code",
   "execution_count": 132,
   "id": "b6bf49ce",
   "metadata": {},
   "outputs": [
    {
     "name": "stdout",
     "output_type": "stream",
     "text": [
      "<class 'pandas.core.frame.DataFrame'>\n",
      "Int64Index: 5242 entries, 0 to 5242\n",
      "Data columns (total 13 columns):\n",
      " #   Column                                         Non-Null Count  Dtype  \n",
      "---  ------                                         --------------  -----  \n",
      " 0   Delta Forward Packets                          5242 non-null   int64  \n",
      " 1   Delta Forward Bytes                            5242 non-null   int64  \n",
      " 2   Forward Instantaneous Packets per Second       5242 non-null   float64\n",
      " 3   Forward Average Packets per second             5242 non-null   float64\n",
      " 4   Forward Instantaneous Bytes per Second         5242 non-null   float64\n",
      " 5   Forward Average Bytes per second               5242 non-null   float64\n",
      " 6   Delta Reverse Packets                          5242 non-null   float64\n",
      " 7   Delta Reverse Bytes                            5242 non-null   float64\n",
      " 8   DeltaReverse Instantaneous Packets per Second  5242 non-null   float64\n",
      " 9   Reverse Average Packets per second             5242 non-null   float64\n",
      " 10  Reverse Instantaneous Bytes per Second         5242 non-null   float64\n",
      " 11  Reverse Average Bytes per second               5242 non-null   float64\n",
      " 12  Traffic Type                                   5242 non-null   object \n",
      "dtypes: float64(10), int64(2), object(1)\n",
      "memory usage: 573.3+ KB\n"
     ]
    }
   ],
   "source": [
    "df.info()"
   ]
  },
  {
   "cell_type": "code",
   "execution_count": 133,
   "id": "34f83cda",
   "metadata": {},
   "outputs": [],
   "source": [
    "df['Traffic Type'] = df['Traffic Type'].astype('category')"
   ]
  },
  {
   "cell_type": "code",
   "execution_count": 134,
   "id": "21464972",
   "metadata": {},
   "outputs": [
    {
     "name": "stdout",
     "output_type": "stream",
     "text": [
      "<class 'pandas.core.frame.DataFrame'>\n",
      "Int64Index: 5242 entries, 0 to 5242\n",
      "Data columns (total 13 columns):\n",
      " #   Column                                         Non-Null Count  Dtype   \n",
      "---  ------                                         --------------  -----   \n",
      " 0   Delta Forward Packets                          5242 non-null   int64   \n",
      " 1   Delta Forward Bytes                            5242 non-null   int64   \n",
      " 2   Forward Instantaneous Packets per Second       5242 non-null   float64 \n",
      " 3   Forward Average Packets per second             5242 non-null   float64 \n",
      " 4   Forward Instantaneous Bytes per Second         5242 non-null   float64 \n",
      " 5   Forward Average Bytes per second               5242 non-null   float64 \n",
      " 6   Delta Reverse Packets                          5242 non-null   float64 \n",
      " 7   Delta Reverse Bytes                            5242 non-null   float64 \n",
      " 8   DeltaReverse Instantaneous Packets per Second  5242 non-null   float64 \n",
      " 9   Reverse Average Packets per second             5242 non-null   float64 \n",
      " 10  Reverse Instantaneous Bytes per Second         5242 non-null   float64 \n",
      " 11  Reverse Average Bytes per second               5242 non-null   float64 \n",
      " 12  Traffic Type                                   5242 non-null   category\n",
      "dtypes: category(1), float64(10), int64(2)\n",
      "memory usage: 537.7 KB\n"
     ]
    }
   ],
   "source": [
    "df.info()"
   ]
  },
  {
   "cell_type": "code",
   "execution_count": 135,
   "id": "6dbd5b28",
   "metadata": {},
   "outputs": [
    {
     "data": {
      "text/plain": [
       "Index(['dns', 'ping', 'telnet', 'voice'], dtype='object')"
      ]
     },
     "execution_count": 135,
     "metadata": {},
     "output_type": "execute_result"
    }
   ],
   "source": [
    "df['Traffic Type'].cat.categories"
   ]
  },
  {
   "cell_type": "code",
   "execution_count": 136,
   "id": "9a7cabe9",
   "metadata": {},
   "outputs": [
    {
     "data": {
      "text/plain": [
       "0    1\n",
       "1    1\n",
       "2    1\n",
       "3    1\n",
       "4    1\n",
       "dtype: int8"
      ]
     },
     "execution_count": 136,
     "metadata": {},
     "output_type": "execute_result"
    }
   ],
   "source": [
    "df['Traffic Type'].cat.codes.head()"
   ]
  },
  {
   "cell_type": "code",
   "execution_count": 137,
   "id": "e9439478",
   "metadata": {},
   "outputs": [
    {
     "name": "stdout",
     "output_type": "stream",
     "text": [
      "Features: ['Delta Forward Packets' 'Delta Forward Bytes'\n",
      " 'Forward Instantaneous Packets per Second'\n",
      " 'Forward Average Packets per second'\n",
      " 'Forward Instantaneous Bytes per Second'\n",
      " 'Forward Average Bytes per second' 'Delta Reverse Packets'\n",
      " 'Delta Reverse Bytes' 'DeltaReverse Instantaneous Packets per Second'\n",
      " 'Reverse Average Packets per second'\n",
      " 'Reverse Instantaneous Bytes per Second'\n",
      " 'Reverse Average Bytes per second']\n"
     ]
    }
   ],
   "source": [
    "print('Features:',df.columns[:-1].values)"
   ]
  },
  {
   "cell_type": "code",
   "execution_count": 138,
   "id": "b3f7dfec",
   "metadata": {},
   "outputs": [
    {
     "name": "stdout",
     "output_type": "stream",
     "text": [
      "Value counts:\n"
     ]
    },
    {
     "data": {
      "text/plain": [
       "ping      1770\n",
       "telnet    1181\n",
       "dns       1154\n",
       "voice     1137\n",
       "Name: Traffic Type, dtype: int64"
      ]
     },
     "execution_count": 138,
     "metadata": {},
     "output_type": "execute_result"
    }
   ],
   "source": [
    "print ('Value counts:')\n",
    "df['Traffic Type'].value_counts()"
   ]
  },
  {
   "cell_type": "code",
   "execution_count": 139,
   "id": "e56c9dd8",
   "metadata": {},
   "outputs": [],
   "source": [
    "X = df.drop('Traffic Type',axis=1)\n",
    "y = df['Traffic Type']"
   ]
  },
  {
   "cell_type": "code",
   "execution_count": 140,
   "id": "93f719c4",
   "metadata": {},
   "outputs": [],
   "source": [
    "X_train, X_test, y_train, y_test = train_test_split(X,y,test_size=0.25, random_state=101)"
   ]
  },
  {
   "cell_type": "code",
   "execution_count": 141,
   "id": "69e948bb",
   "metadata": {},
   "outputs": [],
   "source": [
    "from sklearn.svm import SVC\n",
    "model = SVC(kernel='linear')\n",
    "# model.fit(X_train, y_train)"
   ]
  },
  {
   "cell_type": "code",
   "execution_count": 142,
   "id": "0458634e",
   "metadata": {},
   "outputs": [
    {
     "data": {
      "text/plain": [
       "SVC(kernel='linear')"
      ]
     },
     "execution_count": 142,
     "metadata": {},
     "output_type": "execute_result"
    }
   ],
   "source": [
    "model.fit(X_train,y_train)"
   ]
  },
  {
   "cell_type": "code",
   "execution_count": 143,
   "id": "3fe34610",
   "metadata": {},
   "outputs": [],
   "source": [
    "idx = 2590 #random number\n",
    "single_x_test = [df.iloc[idx].drop('Traffic Type').tolist()]\n",
    "single_y_test = df.iloc[idx]['Traffic Type']"
   ]
  },
  {
   "cell_type": "code",
   "execution_count": 144,
   "id": "60bf4b5e",
   "metadata": {},
   "outputs": [
    {
     "name": "stdout",
     "output_type": "stream",
     "text": [
      "For this sample, our model predicted voice and it was actually voice\n"
     ]
    }
   ],
   "source": [
    "single_prediction = model.predict(single_x_test)\n",
    "print('For this sample, our model predicted %s and it was actually %s' % (single_prediction[0], single_y_test))"
   ]
  },
  {
   "cell_type": "code",
   "execution_count": 145,
   "id": "7f4515bf",
   "metadata": {},
   "outputs": [],
   "source": [
    "predictions = model.predict(X_test)"
   ]
  },
  {
   "cell_type": "code",
   "execution_count": 146,
   "id": "9a1e6b0e",
   "metadata": {},
   "outputs": [
    {
     "data": {
      "text/html": [
       "<div>\n",
       "<style scoped>\n",
       "    .dataframe tbody tr th:only-of-type {\n",
       "        vertical-align: middle;\n",
       "    }\n",
       "\n",
       "    .dataframe tbody tr th {\n",
       "        vertical-align: top;\n",
       "    }\n",
       "\n",
       "    .dataframe thead th {\n",
       "        text-align: right;\n",
       "    }\n",
       "</style>\n",
       "<table border=\"1\" class=\"dataframe\">\n",
       "  <thead>\n",
       "    <tr style=\"text-align: right;\">\n",
       "      <th></th>\n",
       "      <th>true</th>\n",
       "      <th>predicted</th>\n",
       "    </tr>\n",
       "  </thead>\n",
       "  <tbody>\n",
       "    <tr>\n",
       "      <th>3156</th>\n",
       "      <td>dns</td>\n",
       "      <td>dns</td>\n",
       "    </tr>\n",
       "    <tr>\n",
       "      <th>2530</th>\n",
       "      <td>voice</td>\n",
       "      <td>voice</td>\n",
       "    </tr>\n",
       "    <tr>\n",
       "      <th>3129</th>\n",
       "      <td>dns</td>\n",
       "      <td>dns</td>\n",
       "    </tr>\n",
       "    <tr>\n",
       "      <th>2301</th>\n",
       "      <td>voice</td>\n",
       "      <td>voice</td>\n",
       "    </tr>\n",
       "    <tr>\n",
       "      <th>2746</th>\n",
       "      <td>voice</td>\n",
       "      <td>voice</td>\n",
       "    </tr>\n",
       "  </tbody>\n",
       "</table>\n",
       "</div>"
      ],
      "text/plain": [
       "       true predicted\n",
       "3156    dns       dns\n",
       "2530  voice     voice\n",
       "3129    dns       dns\n",
       "2301  voice     voice\n",
       "2746  voice     voice"
      ]
     },
     "execution_count": 146,
     "metadata": {},
     "output_type": "execute_result"
    }
   ],
   "source": [
    "resultsDF = pd.DataFrame({\n",
    "        'true':y_test,\n",
    "        'predicted':predictions\n",
    "    })\n",
    "resultsDF.head()"
   ]
  },
  {
   "cell_type": "code",
   "execution_count": 147,
   "id": "406edf36",
   "metadata": {},
   "outputs": [
    {
     "name": "stdout",
     "output_type": "stream",
     "text": [
      "Accuracy: 99.77%\n"
     ]
    }
   ],
   "source": [
    "print('Accuracy: %.2f%%' % (accuracy_score(predictions,y_test)*100))"
   ]
  },
  {
   "cell_type": "code",
   "execution_count": 148,
   "id": "181cd5c9",
   "metadata": {},
   "outputs": [
    {
     "name": "stdout",
     "output_type": "stream",
     "text": [
      "4.0\n"
     ]
    }
   ],
   "source": [
    "print(pickle.format_version)"
   ]
  },
  {
   "cell_type": "code",
   "execution_count": 149,
   "id": "cc2de653",
   "metadata": {},
   "outputs": [],
   "source": [
    "# pickle.dump(model,open('LogisticRegression','wb'))"
   ]
  },
  {
   "cell_type": "code",
   "execution_count": 150,
   "id": "9af7d833",
   "metadata": {},
   "outputs": [
    {
     "name": "stdout",
     "output_type": "stream",
     "text": [
      "[[301   1   0   1]\n",
      " [  0 428   0   0]\n",
      " [  0   0 287   0]\n",
      " [  1   0   0 292]]\n"
     ]
    }
   ],
   "source": [
    "cm = confusion_matrix(predictions,y_test, labels=y.cat.categories)\n",
    "print(cm)"
   ]
  },
  {
   "cell_type": "code",
   "execution_count": 151,
   "id": "88c837c8",
   "metadata": {},
   "outputs": [
    {
     "name": "stdout",
     "output_type": "stream",
     "text": [
      "        dns  ping  telnet  voice\n",
      "dns     301     1       0      1\n",
      "ping      0   428       0      0\n",
      "telnet    0     0     287      0\n",
      "voice     1     0       0    292\n"
     ]
    }
   ],
   "source": [
    "cmDF = pd.DataFrame()\n",
    "\n",
    "for i, row in enumerate(y.cat.categories):\n",
    "    temp = {}\n",
    "    for j, col in enumerate(y.cat.categories): \n",
    "        temp[col]=cm[i,j]\n",
    "    cmDF = cmDF.append(pd.DataFrame.from_dict({row:temp}, orient='index'))\n",
    "\n",
    "print(cmDF)"
   ]
  },
  {
   "cell_type": "code",
   "execution_count": 152,
   "id": "101bb3ec",
   "metadata": {},
   "outputs": [
    {
     "data": {
      "image/png": "[encoded data removed]",
      "text/plain": [
       "<Figure size 600x600 with 2 Axes>"
      ]
     },
     "metadata": {},
     "output_type": "display_data"
    }
   ],
   "source": [
    "plt.figure(figsize=(6,6))\n",
    "plt.imshow(cm, interpolation='nearest', cmap=plt.cm.Blues)\n",
    "plt.title('Confusion Matrix', fontsize=15)\n",
    "plt.colorbar()\n",
    "tick_marks = np.arange(len(y.unique()))\n",
    "plt.xticks(tick_marks, y.unique(), rotation=45, fontsize=12)\n",
    "plt.yticks(tick_marks, y.unique(), fontsize=12)\n",
    "plt.xlabel('True Label', fontsize=15)\n",
    "plt.ylabel('Predicted Label', fontsize=15)\n",
    "\n",
    "for i in range(len(cm)):\n",
    "    for j in range(len(cm[i])):\n",
    "        color = 'black'   \n",
    "        if cm[i][j] > 5:\n",
    "            color = 'white'\n",
    "        plt.text(j, i, format(cm[i][j]), \n",
    "                horizontalalignment='center',\n",
    "                color=color, fontsize=15)"
   ]
  },
  {
   "cell_type": "code",
   "execution_count": null,
   "id": "f96fd3cc",
   "metadata": {},
   "outputs": [],
   "source": []
  }
 ],
 "metadata": {
  "kernelspec": {
   "display_name": "Python 3 (ipykernel)",
   "language": "python",
   "name": "python3"
  },
  "language_info": {
   "codemirror_mode": {
    "name": "ipython",
    "version": 3
   },
   "file_extension": ".py",
   "mimetype": "text/x-python",
   "name": "python",
   "nbconvert_exporter": "python",
   "pygments_lexer": "ipython3",
   "version": "3.9.13"
  }
 },
 "nbformat": 4,
 "nbformat_minor": 5
}
