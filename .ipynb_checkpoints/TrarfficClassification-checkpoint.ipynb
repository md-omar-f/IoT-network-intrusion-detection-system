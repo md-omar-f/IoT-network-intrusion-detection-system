{
 "cells": [
  {
   "cell_type": "code",
   "execution_count": 97,
   "id": "9ec1d093",
   "metadata": {},
   "outputs": [],
   "source": [
    "import numpy as np\n",
    "import pandas as pd\n",
    "import pickle\n",
    "\n",
    "\n",
    "# plotting libraries\n",
    "\n",
    "import seaborn as sns\n",
    "import matplotlib.pyplot as plt\n",
    "\n",
    "# sklearn libraries\n",
    "\n",
    "from sklearn.preprocessing import StandardScaler\n",
    "from sklearn.preprocessing import label_binarize\n",
    "from sklearn.model_selection import train_test_split\n",
    "from sklearn.decomposition import PCA\n",
    "from sklearn.linear_model import LogisticRegression\n",
    "from sklearn.cluster import DBSCAN, KMeans\n",
    "from sklearn.metrics import accuracy_score, classification_report, confusion_matrix\n",
    "\n",
    "import os, warnings\n",
    "\n",
    "# Filter warnings\n",
    "\n",
    "warnings.filterwarnings('ignore') #filter warnings\n",
    "\n",
    "# Show plots inline\n",
    "\n",
    "%matplotlib inline\n"
   ]
  },
  {
   "cell_type": "code",
   "execution_count": 98,
   "id": "ba68cb65",
   "metadata": {},
   "outputs": [],
   "source": [
    "df = pd.read_csv('IDS2018.csv')"
   ]
  },
  {
   "cell_type": "code",
   "execution_count": 99,
   "id": "f7c4cf3b",
   "metadata": {},
   "outputs": [],
   "source": [
    "df.replace([np.inf, -np.inf], np.nan, inplace=True)\n",
    "df.dropna(inplace=True)\n",
    "# df.replace('Benign',0,inplace=True)\n",
    "# df.replace('Bot',1,inplace=True)"
   ]
  },
  {
   "cell_type": "code",
   "execution_count": 100,
   "id": "55c99b3d",
   "metadata": {},
   "outputs": [],
   "source": [
    "# df.drop('Forward Packets', axis=1, inplace=True)\n",
    "# df.drop('Forward Bytes', axis=1, inplace=True)\n",
    "# df.drop('Reverse Packets', axis=1, inplace=True)\n",
    "df.drop('Timestamp', axis=1, inplace=True)"
   ]
  },
  {
   "cell_type": "code",
   "execution_count": 101,
   "id": "a2c18e29",
   "metadata": {},
   "outputs": [
    {
     "name": "stdout",
     "output_type": "stream",
     "text": [
      "(1044525, 79)\n"
     ]
    }
   ],
   "source": [
    "print(df.shape)"
   ]
  },
  {
   "cell_type": "code",
   "execution_count": 102,
   "id": "ae511ab1",
   "metadata": {
    "scrolled": false
   },
   "outputs": [
    {
     "data": {
      "text/html": [
       "<div>\n",
       "<style scoped>\n",
       "    .dataframe tbody tr th:only-of-type {\n",
       "        vertical-align: middle;\n",
       "    }\n",
       "\n",
       "    .dataframe tbody tr th {\n",
       "        vertical-align: top;\n",
       "    }\n",
       "\n",
       "    .dataframe thead th {\n",
       "        text-align: right;\n",
       "    }\n",
       "</style>\n",
       "<table border=\"1\" class=\"dataframe\">\n",
       "  <thead>\n",
       "    <tr style=\"text-align: right;\">\n",
       "      <th></th>\n",
       "      <th>Dst Port</th>\n",
       "      <th>Protocol</th>\n",
       "      <th>Flow Duration</th>\n",
       "      <th>Tot Fwd Pkts</th>\n",
       "      <th>Tot Bwd Pkts</th>\n",
       "      <th>TotLen Fwd Pkts</th>\n",
       "      <th>TotLen Bwd Pkts</th>\n",
       "      <th>Fwd Pkt Len Max</th>\n",
       "      <th>Fwd Pkt Len Min</th>\n",
       "      <th>Fwd Pkt Len Mean</th>\n",
       "      <th>...</th>\n",
       "      <th>Fwd Act Data Pkts</th>\n",
       "      <th>Fwd Seg Size Min</th>\n",
       "      <th>Active Mean</th>\n",
       "      <th>Active Std</th>\n",
       "      <th>Active Max</th>\n",
       "      <th>Active Min</th>\n",
       "      <th>Idle Mean</th>\n",
       "      <th>Idle Std</th>\n",
       "      <th>Idle Max</th>\n",
       "      <th>Idle Min</th>\n",
       "    </tr>\n",
       "  </thead>\n",
       "  <tbody>\n",
       "    <tr>\n",
       "      <th>count</th>\n",
       "      <td>1.044525e+06</td>\n",
       "      <td>1.044525e+06</td>\n",
       "      <td>1.044525e+06</td>\n",
       "      <td>1.044525e+06</td>\n",
       "      <td>1.044525e+06</td>\n",
       "      <td>1.044525e+06</td>\n",
       "      <td>1.044525e+06</td>\n",
       "      <td>1.044525e+06</td>\n",
       "      <td>1.044525e+06</td>\n",
       "      <td>1.044525e+06</td>\n",
       "      <td>...</td>\n",
       "      <td>1.044525e+06</td>\n",
       "      <td>1.044525e+06</td>\n",
       "      <td>1.044525e+06</td>\n",
       "      <td>1.044525e+06</td>\n",
       "      <td>1.044525e+06</td>\n",
       "      <td>1.044525e+06</td>\n",
       "      <td>1.044525e+06</td>\n",
       "      <td>1.044525e+06</td>\n",
       "      <td>1.044525e+06</td>\n",
       "      <td>1.044525e+06</td>\n",
       "    </tr>\n",
       "    <tr>\n",
       "      <th>mean</th>\n",
       "      <td>8.266766e+03</td>\n",
       "      <td>8.057796e+00</td>\n",
       "      <td>1.155885e+07</td>\n",
       "      <td>5.902530e+00</td>\n",
       "      <td>7.010040e+00</td>\n",
       "      <td>3.935511e+02</td>\n",
       "      <td>5.291713e+03</td>\n",
       "      <td>2.111953e+02</td>\n",
       "      <td>8.273807e+00</td>\n",
       "      <td>5.479855e+01</td>\n",
       "      <td>...</td>\n",
       "      <td>2.052119e+00</td>\n",
       "      <td>1.744416e+01</td>\n",
       "      <td>1.234346e+05</td>\n",
       "      <td>6.154744e+04</td>\n",
       "      <td>1.912618e+05</td>\n",
       "      <td>8.337649e+04</td>\n",
       "      <td>4.799736e+06</td>\n",
       "      <td>1.068351e+05</td>\n",
       "      <td>4.882636e+06</td>\n",
       "      <td>4.695151e+06</td>\n",
       "    </tr>\n",
       "    <tr>\n",
       "      <th>std</th>\n",
       "      <td>1.496231e+04</td>\n",
       "      <td>4.439372e+00</td>\n",
       "      <td>3.017092e+07</td>\n",
       "      <td>8.920527e+01</td>\n",
       "      <td>2.133700e+02</td>\n",
       "      <td>2.163833e+03</td>\n",
       "      <td>3.094749e+05</td>\n",
       "      <td>2.671786e+02</td>\n",
       "      <td>2.098046e+01</td>\n",
       "      <td>5.765815e+01</td>\n",
       "      <td>...</td>\n",
       "      <td>1.395102e+01</td>\n",
       "      <td>5.187126e+00</td>\n",
       "      <td>2.087119e+06</td>\n",
       "      <td>1.264132e+06</td>\n",
       "      <td>2.766778e+06</td>\n",
       "      <td>1.763232e+06</td>\n",
       "      <td>1.744425e+07</td>\n",
       "      <td>1.465423e+06</td>\n",
       "      <td>1.759949e+07</td>\n",
       "      <td>1.736415e+07</td>\n",
       "    </tr>\n",
       "    <tr>\n",
       "      <th>min</th>\n",
       "      <td>0.000000e+00</td>\n",
       "      <td>0.000000e+00</td>\n",
       "      <td>1.000000e+00</td>\n",
       "      <td>1.000000e+00</td>\n",
       "      <td>0.000000e+00</td>\n",
       "      <td>0.000000e+00</td>\n",
       "      <td>0.000000e+00</td>\n",
       "      <td>0.000000e+00</td>\n",
       "      <td>0.000000e+00</td>\n",
       "      <td>0.000000e+00</td>\n",
       "      <td>...</td>\n",
       "      <td>0.000000e+00</td>\n",
       "      <td>0.000000e+00</td>\n",
       "      <td>0.000000e+00</td>\n",
       "      <td>0.000000e+00</td>\n",
       "      <td>0.000000e+00</td>\n",
       "      <td>0.000000e+00</td>\n",
       "      <td>0.000000e+00</td>\n",
       "      <td>0.000000e+00</td>\n",
       "      <td>0.000000e+00</td>\n",
       "      <td>0.000000e+00</td>\n",
       "    </tr>\n",
       "    <tr>\n",
       "      <th>25%</th>\n",
       "      <td>8.000000e+01</td>\n",
       "      <td>6.000000e+00</td>\n",
       "      <td>5.190000e+02</td>\n",
       "      <td>2.000000e+00</td>\n",
       "      <td>0.000000e+00</td>\n",
       "      <td>0.000000e+00</td>\n",
       "      <td>0.000000e+00</td>\n",
       "      <td>0.000000e+00</td>\n",
       "      <td>0.000000e+00</td>\n",
       "      <td>0.000000e+00</td>\n",
       "      <td>...</td>\n",
       "      <td>0.000000e+00</td>\n",
       "      <td>2.000000e+01</td>\n",
       "      <td>0.000000e+00</td>\n",
       "      <td>0.000000e+00</td>\n",
       "      <td>0.000000e+00</td>\n",
       "      <td>0.000000e+00</td>\n",
       "      <td>0.000000e+00</td>\n",
       "      <td>0.000000e+00</td>\n",
       "      <td>0.000000e+00</td>\n",
       "      <td>0.000000e+00</td>\n",
       "    </tr>\n",
       "    <tr>\n",
       "      <th>50%</th>\n",
       "      <td>3.389000e+03</td>\n",
       "      <td>6.000000e+00</td>\n",
       "      <td>1.127400e+04</td>\n",
       "      <td>3.000000e+00</td>\n",
       "      <td>1.000000e+00</td>\n",
       "      <td>6.400000e+01</td>\n",
       "      <td>1.290000e+02</td>\n",
       "      <td>4.600000e+01</td>\n",
       "      <td>0.000000e+00</td>\n",
       "      <td>4.000000e+01</td>\n",
       "      <td>...</td>\n",
       "      <td>1.000000e+00</td>\n",
       "      <td>2.000000e+01</td>\n",
       "      <td>0.000000e+00</td>\n",
       "      <td>0.000000e+00</td>\n",
       "      <td>0.000000e+00</td>\n",
       "      <td>0.000000e+00</td>\n",
       "      <td>0.000000e+00</td>\n",
       "      <td>0.000000e+00</td>\n",
       "      <td>0.000000e+00</td>\n",
       "      <td>0.000000e+00</td>\n",
       "    </tr>\n",
       "    <tr>\n",
       "      <th>75%</th>\n",
       "      <td>8.080000e+03</td>\n",
       "      <td>6.000000e+00</td>\n",
       "      <td>2.221014e+06</td>\n",
       "      <td>7.000000e+00</td>\n",
       "      <td>5.000000e+00</td>\n",
       "      <td>3.690000e+02</td>\n",
       "      <td>5.820000e+02</td>\n",
       "      <td>3.260000e+02</td>\n",
       "      <td>0.000000e+00</td>\n",
       "      <td>1.086667e+02</td>\n",
       "      <td>...</td>\n",
       "      <td>3.000000e+00</td>\n",
       "      <td>2.000000e+01</td>\n",
       "      <td>0.000000e+00</td>\n",
       "      <td>0.000000e+00</td>\n",
       "      <td>0.000000e+00</td>\n",
       "      <td>0.000000e+00</td>\n",
       "      <td>0.000000e+00</td>\n",
       "      <td>0.000000e+00</td>\n",
       "      <td>0.000000e+00</td>\n",
       "      <td>0.000000e+00</td>\n",
       "    </tr>\n",
       "    <tr>\n",
       "      <th>max</th>\n",
       "      <td>6.553400e+04</td>\n",
       "      <td>1.700000e+01</td>\n",
       "      <td>1.200000e+08</td>\n",
       "      <td>4.315900e+04</td>\n",
       "      <td>6.924100e+04</td>\n",
       "      <td>1.100627e+06</td>\n",
       "      <td>1.010000e+08</td>\n",
       "      <td>1.711000e+03</td>\n",
       "      <td>1.460000e+03</td>\n",
       "      <td>1.460000e+03</td>\n",
       "      <td>...</td>\n",
       "      <td>9.262000e+03</td>\n",
       "      <td>4.400000e+01</td>\n",
       "      <td>1.110000e+08</td>\n",
       "      <td>7.490000e+07</td>\n",
       "      <td>1.110000e+08</td>\n",
       "      <td>1.110000e+08</td>\n",
       "      <td>1.200000e+08</td>\n",
       "      <td>7.590000e+07</td>\n",
       "      <td>1.200000e+08</td>\n",
       "      <td>1.200000e+08</td>\n",
       "    </tr>\n",
       "  </tbody>\n",
       "</table>\n",
       "<p>8 rows × 78 columns</p>\n",
       "</div>"
      ],
      "text/plain": [
       "           Dst Port      Protocol  Flow Duration  Tot Fwd Pkts  Tot Bwd Pkts  \\\n",
       "count  1.044525e+06  1.044525e+06   1.044525e+06  1.044525e+06  1.044525e+06   \n",
       "mean   8.266766e+03  8.057796e+00   1.155885e+07  5.902530e+00  7.010040e+00   \n",
       "std    1.496231e+04  4.439372e+00   3.017092e+07  8.920527e+01  2.133700e+02   \n",
       "min    0.000000e+00  0.000000e+00   1.000000e+00  1.000000e+00  0.000000e+00   \n",
       "25%    8.000000e+01  6.000000e+00   5.190000e+02  2.000000e+00  0.000000e+00   \n",
       "50%    3.389000e+03  6.000000e+00   1.127400e+04  3.000000e+00  1.000000e+00   \n",
       "75%    8.080000e+03  6.000000e+00   2.221014e+06  7.000000e+00  5.000000e+00   \n",
       "max    6.553400e+04  1.700000e+01   1.200000e+08  4.315900e+04  6.924100e+04   \n",
       "\n",
       "       TotLen Fwd Pkts  TotLen Bwd Pkts  Fwd Pkt Len Max  Fwd Pkt Len Min  \\\n",
       "count     1.044525e+06     1.044525e+06     1.044525e+06     1.044525e+06   \n",
       "mean      3.935511e+02     5.291713e+03     2.111953e+02     8.273807e+00   \n",
       "std       2.163833e+03     3.094749e+05     2.671786e+02     2.098046e+01   \n",
       "min       0.000000e+00     0.000000e+00     0.000000e+00     0.000000e+00   \n",
       "25%       0.000000e+00     0.000000e+00     0.000000e+00     0.000000e+00   \n",
       "50%       6.400000e+01     1.290000e+02     4.600000e+01     0.000000e+00   \n",
       "75%       3.690000e+02     5.820000e+02     3.260000e+02     0.000000e+00   \n",
       "max       1.100627e+06     1.010000e+08     1.711000e+03     1.460000e+03   \n",
       "\n",
       "       Fwd Pkt Len Mean  ...  Fwd Act Data Pkts  Fwd Seg Size Min  \\\n",
       "count      1.044525e+06  ...       1.044525e+06      1.044525e+06   \n",
       "mean       5.479855e+01  ...       2.052119e+00      1.744416e+01   \n",
       "std        5.765815e+01  ...       1.395102e+01      5.187126e+00   \n",
       "min        0.000000e+00  ...       0.000000e+00      0.000000e+00   \n",
       "25%        0.000000e+00  ...       0.000000e+00      2.000000e+01   \n",
       "50%        4.000000e+01  ...       1.000000e+00      2.000000e+01   \n",
       "75%        1.086667e+02  ...       3.000000e+00      2.000000e+01   \n",
       "max        1.460000e+03  ...       9.262000e+03      4.400000e+01   \n",
       "\n",
       "        Active Mean    Active Std    Active Max    Active Min     Idle Mean  \\\n",
       "count  1.044525e+06  1.044525e+06  1.044525e+06  1.044525e+06  1.044525e+06   \n",
       "mean   1.234346e+05  6.154744e+04  1.912618e+05  8.337649e+04  4.799736e+06   \n",
       "std    2.087119e+06  1.264132e+06  2.766778e+06  1.763232e+06  1.744425e+07   \n",
       "min    0.000000e+00  0.000000e+00  0.000000e+00  0.000000e+00  0.000000e+00   \n",
       "25%    0.000000e+00  0.000000e+00  0.000000e+00  0.000000e+00  0.000000e+00   \n",
       "50%    0.000000e+00  0.000000e+00  0.000000e+00  0.000000e+00  0.000000e+00   \n",
       "75%    0.000000e+00  0.000000e+00  0.000000e+00  0.000000e+00  0.000000e+00   \n",
       "max    1.110000e+08  7.490000e+07  1.110000e+08  1.110000e+08  1.200000e+08   \n",
       "\n",
       "           Idle Std      Idle Max      Idle Min  \n",
       "count  1.044525e+06  1.044525e+06  1.044525e+06  \n",
       "mean   1.068351e+05  4.882636e+06  4.695151e+06  \n",
       "std    1.465423e+06  1.759949e+07  1.736415e+07  \n",
       "min    0.000000e+00  0.000000e+00  0.000000e+00  \n",
       "25%    0.000000e+00  0.000000e+00  0.000000e+00  \n",
       "50%    0.000000e+00  0.000000e+00  0.000000e+00  \n",
       "75%    0.000000e+00  0.000000e+00  0.000000e+00  \n",
       "max    7.590000e+07  1.200000e+08  1.200000e+08  \n",
       "\n",
       "[8 rows x 78 columns]"
      ]
     },
     "execution_count": 102,
     "metadata": {},
     "output_type": "execute_result"
    }
   ],
   "source": [
    "df.describe()"
   ]
  },
  {
   "cell_type": "code",
   "execution_count": 103,
   "id": "b6bf49ce",
   "metadata": {},
   "outputs": [
    {
     "name": "stdout",
     "output_type": "stream",
     "text": [
      "<class 'pandas.core.frame.DataFrame'>\n",
      "Int64Index: 1044525 entries, 0 to 1048574\n",
      "Data columns (total 79 columns):\n",
      " #   Column             Non-Null Count    Dtype  \n",
      "---  ------             --------------    -----  \n",
      " 0   Dst Port           1044525 non-null  int64  \n",
      " 1   Protocol           1044525 non-null  int64  \n",
      " 2   Flow Duration      1044525 non-null  int64  \n",
      " 3   Tot Fwd Pkts       1044525 non-null  int64  \n",
      " 4   Tot Bwd Pkts       1044525 non-null  int64  \n",
      " 5   TotLen Fwd Pkts    1044525 non-null  int64  \n",
      " 6   TotLen Bwd Pkts    1044525 non-null  float64\n",
      " 7   Fwd Pkt Len Max    1044525 non-null  int64  \n",
      " 8   Fwd Pkt Len Min    1044525 non-null  int64  \n",
      " 9   Fwd Pkt Len Mean   1044525 non-null  float64\n",
      " 10  Fwd Pkt Len Std    1044525 non-null  float64\n",
      " 11  Bwd Pkt Len Max    1044525 non-null  int64  \n",
      " 12  Bwd Pkt Len Min    1044525 non-null  int64  \n",
      " 13  Bwd Pkt Len Mean   1044525 non-null  float64\n",
      " 14  Bwd Pkt Len Std    1044525 non-null  float64\n",
      " 15  Flow Byts/s        1044525 non-null  float64\n",
      " 16  Flow Pkts/s        1044525 non-null  float64\n",
      " 17  Flow IAT Mean      1044525 non-null  float64\n",
      " 18  Flow IAT Std       1044525 non-null  float64\n",
      " 19  Flow IAT Max       1044525 non-null  float64\n",
      " 20  Flow IAT Min       1044525 non-null  float64\n",
      " 21  Fwd IAT Tot        1044525 non-null  float64\n",
      " 22  Fwd IAT Mean       1044525 non-null  float64\n",
      " 23  Fwd IAT Std        1044525 non-null  float64\n",
      " 24  Fwd IAT Max        1044525 non-null  float64\n",
      " 25  Fwd IAT Min        1044525 non-null  float64\n",
      " 26  Bwd IAT Tot        1044525 non-null  float64\n",
      " 27  Bwd IAT Mean       1044525 non-null  float64\n",
      " 28  Bwd IAT Std        1044525 non-null  float64\n",
      " 29  Bwd IAT Max        1044525 non-null  float64\n",
      " 30  Bwd IAT Min        1044525 non-null  float64\n",
      " 31  Fwd PSH Flags      1044525 non-null  int64  \n",
      " 32  Bwd PSH Flags      1044525 non-null  int64  \n",
      " 33  Fwd URG Flags      1044525 non-null  int64  \n",
      " 34  Bwd URG Flags      1044525 non-null  int64  \n",
      " 35  Fwd Header Len     1044525 non-null  int64  \n",
      " 36  Bwd Header Len     1044525 non-null  int64  \n",
      " 37  Fwd Pkts/s         1044525 non-null  float64\n",
      " 38  Bwd Pkts/s         1044525 non-null  float64\n",
      " 39  Pkt Len Min        1044525 non-null  int64  \n",
      " 40  Pkt Len Max        1044525 non-null  int64  \n",
      " 41  Pkt Len Mean       1044525 non-null  float64\n",
      " 42  Pkt Len Std        1044525 non-null  float64\n",
      " 43  Pkt Len Var        1044525 non-null  float64\n",
      " 44  FIN Flag Cnt       1044525 non-null  int64  \n",
      " 45  SYN Flag Cnt       1044525 non-null  int64  \n",
      " 46  RST Flag Cnt       1044525 non-null  int64  \n",
      " 47  PSH Flag Cnt       1044525 non-null  int64  \n",
      " 48  ACK Flag Cnt       1044525 non-null  int64  \n",
      " 49  URG Flag Cnt       1044525 non-null  int64  \n",
      " 50  CWE Flag Count     1044525 non-null  int64  \n",
      " 51  ECE Flag Cnt       1044525 non-null  int64  \n",
      " 52  Down/Up Ratio      1044525 non-null  int64  \n",
      " 53  Pkt Size Avg       1044525 non-null  float64\n",
      " 54  Fwd Seg Size Avg   1044525 non-null  float64\n",
      " 55  Bwd Seg Size Avg   1044525 non-null  float64\n",
      " 56  Fwd Byts/b Avg     1044525 non-null  int64  \n",
      " 57  Fwd Pkts/b Avg     1044525 non-null  int64  \n",
      " 58  Fwd Blk Rate Avg   1044525 non-null  int64  \n",
      " 59  Bwd Byts/b Avg     1044525 non-null  int64  \n",
      " 60  Bwd Pkts/b Avg     1044525 non-null  int64  \n",
      " 61  Bwd Blk Rate Avg   1044525 non-null  int64  \n",
      " 62  Subflow Fwd Pkts   1044525 non-null  int64  \n",
      " 63  Subflow Fwd Byts   1044525 non-null  int64  \n",
      " 64  Subflow Bwd Pkts   1044525 non-null  int64  \n",
      " 65  Subflow Bwd Byts   1044525 non-null  int64  \n",
      " 66  Init Fwd Win Byts  1044525 non-null  int64  \n",
      " 67  Init Bwd Win Byts  1044525 non-null  int64  \n",
      " 68  Fwd Act Data Pkts  1044525 non-null  int64  \n",
      " 69  Fwd Seg Size Min   1044525 non-null  int64  \n",
      " 70  Active Mean        1044525 non-null  float64\n",
      " 71  Active Std         1044525 non-null  float64\n",
      " 72  Active Max         1044525 non-null  float64\n",
      " 73  Active Min         1044525 non-null  float64\n",
      " 74  Idle Mean          1044525 non-null  float64\n",
      " 75  Idle Std           1044525 non-null  float64\n",
      " 76  Idle Max           1044525 non-null  float64\n",
      " 77  Idle Min           1044525 non-null  float64\n",
      " 78  Label              1044525 non-null  object \n",
      "dtypes: float64(37), int64(41), object(1)\n",
      "memory usage: 637.5+ MB\n"
     ]
    }
   ],
   "source": [
    "df.info()"
   ]
  },
  {
   "cell_type": "code",
   "execution_count": 104,
   "id": "34f83cda",
   "metadata": {},
   "outputs": [],
   "source": [
    "df['Label'] = df['Label'].astype('category')"
   ]
  },
  {
   "cell_type": "code",
   "execution_count": 105,
   "id": "21464972",
   "metadata": {},
   "outputs": [
    {
     "name": "stdout",
     "output_type": "stream",
     "text": [
      "<class 'pandas.core.frame.DataFrame'>\n",
      "Int64Index: 1044525 entries, 0 to 1048574\n",
      "Data columns (total 79 columns):\n",
      " #   Column             Non-Null Count    Dtype   \n",
      "---  ------             --------------    -----   \n",
      " 0   Dst Port           1044525 non-null  int64   \n",
      " 1   Protocol           1044525 non-null  int64   \n",
      " 2   Flow Duration      1044525 non-null  int64   \n",
      " 3   Tot Fwd Pkts       1044525 non-null  int64   \n",
      " 4   Tot Bwd Pkts       1044525 non-null  int64   \n",
      " 5   TotLen Fwd Pkts    1044525 non-null  int64   \n",
      " 6   TotLen Bwd Pkts    1044525 non-null  float64 \n",
      " 7   Fwd Pkt Len Max    1044525 non-null  int64   \n",
      " 8   Fwd Pkt Len Min    1044525 non-null  int64   \n",
      " 9   Fwd Pkt Len Mean   1044525 non-null  float64 \n",
      " 10  Fwd Pkt Len Std    1044525 non-null  float64 \n",
      " 11  Bwd Pkt Len Max    1044525 non-null  int64   \n",
      " 12  Bwd Pkt Len Min    1044525 non-null  int64   \n",
      " 13  Bwd Pkt Len Mean   1044525 non-null  float64 \n",
      " 14  Bwd Pkt Len Std    1044525 non-null  float64 \n",
      " 15  Flow Byts/s        1044525 non-null  float64 \n",
      " 16  Flow Pkts/s        1044525 non-null  float64 \n",
      " 17  Flow IAT Mean      1044525 non-null  float64 \n",
      " 18  Flow IAT Std       1044525 non-null  float64 \n",
      " 19  Flow IAT Max       1044525 non-null  float64 \n",
      " 20  Flow IAT Min       1044525 non-null  float64 \n",
      " 21  Fwd IAT Tot        1044525 non-null  float64 \n",
      " 22  Fwd IAT Mean       1044525 non-null  float64 \n",
      " 23  Fwd IAT Std        1044525 non-null  float64 \n",
      " 24  Fwd IAT Max        1044525 non-null  float64 \n",
      " 25  Fwd IAT Min        1044525 non-null  float64 \n",
      " 26  Bwd IAT Tot        1044525 non-null  float64 \n",
      " 27  Bwd IAT Mean       1044525 non-null  float64 \n",
      " 28  Bwd IAT Std        1044525 non-null  float64 \n",
      " 29  Bwd IAT Max        1044525 non-null  float64 \n",
      " 30  Bwd IAT Min        1044525 non-null  float64 \n",
      " 31  Fwd PSH Flags      1044525 non-null  int64   \n",
      " 32  Bwd PSH Flags      1044525 non-null  int64   \n",
      " 33  Fwd URG Flags      1044525 non-null  int64   \n",
      " 34  Bwd URG Flags      1044525 non-null  int64   \n",
      " 35  Fwd Header Len     1044525 non-null  int64   \n",
      " 36  Bwd Header Len     1044525 non-null  int64   \n",
      " 37  Fwd Pkts/s         1044525 non-null  float64 \n",
      " 38  Bwd Pkts/s         1044525 non-null  float64 \n",
      " 39  Pkt Len Min        1044525 non-null  int64   \n",
      " 40  Pkt Len Max        1044525 non-null  int64   \n",
      " 41  Pkt Len Mean       1044525 non-null  float64 \n",
      " 42  Pkt Len Std        1044525 non-null  float64 \n",
      " 43  Pkt Len Var        1044525 non-null  float64 \n",
      " 44  FIN Flag Cnt       1044525 non-null  int64   \n",
      " 45  SYN Flag Cnt       1044525 non-null  int64   \n",
      " 46  RST Flag Cnt       1044525 non-null  int64   \n",
      " 47  PSH Flag Cnt       1044525 non-null  int64   \n",
      " 48  ACK Flag Cnt       1044525 non-null  int64   \n",
      " 49  URG Flag Cnt       1044525 non-null  int64   \n",
      " 50  CWE Flag Count     1044525 non-null  int64   \n",
      " 51  ECE Flag Cnt       1044525 non-null  int64   \n",
      " 52  Down/Up Ratio      1044525 non-null  int64   \n",
      " 53  Pkt Size Avg       1044525 non-null  float64 \n",
      " 54  Fwd Seg Size Avg   1044525 non-null  float64 \n",
      " 55  Bwd Seg Size Avg   1044525 non-null  float64 \n",
      " 56  Fwd Byts/b Avg     1044525 non-null  int64   \n",
      " 57  Fwd Pkts/b Avg     1044525 non-null  int64   \n",
      " 58  Fwd Blk Rate Avg   1044525 non-null  int64   \n",
      " 59  Bwd Byts/b Avg     1044525 non-null  int64   \n",
      " 60  Bwd Pkts/b Avg     1044525 non-null  int64   \n",
      " 61  Bwd Blk Rate Avg   1044525 non-null  int64   \n",
      " 62  Subflow Fwd Pkts   1044525 non-null  int64   \n",
      " 63  Subflow Fwd Byts   1044525 non-null  int64   \n",
      " 64  Subflow Bwd Pkts   1044525 non-null  int64   \n",
      " 65  Subflow Bwd Byts   1044525 non-null  int64   \n",
      " 66  Init Fwd Win Byts  1044525 non-null  int64   \n",
      " 67  Init Bwd Win Byts  1044525 non-null  int64   \n",
      " 68  Fwd Act Data Pkts  1044525 non-null  int64   \n",
      " 69  Fwd Seg Size Min   1044525 non-null  int64   \n",
      " 70  Active Mean        1044525 non-null  float64 \n",
      " 71  Active Std         1044525 non-null  float64 \n",
      " 72  Active Max         1044525 non-null  float64 \n",
      " 73  Active Min         1044525 non-null  float64 \n",
      " 74  Idle Mean          1044525 non-null  float64 \n",
      " 75  Idle Std           1044525 non-null  float64 \n",
      " 76  Idle Max           1044525 non-null  float64 \n",
      " 77  Idle Min           1044525 non-null  float64 \n",
      " 78  Label              1044525 non-null  category\n",
      "dtypes: category(1), float64(37), int64(41)\n",
      "memory usage: 630.6 MB\n"
     ]
    }
   ],
   "source": [
    "df.info()"
   ]
  },
  {
   "cell_type": "code",
   "execution_count": 106,
   "id": "6dbd5b28",
   "metadata": {},
   "outputs": [
    {
     "data": {
      "text/plain": [
       "Index(['Benign', 'Bot'], dtype='object')"
      ]
     },
     "execution_count": 106,
     "metadata": {},
     "output_type": "execute_result"
    }
   ],
   "source": [
    "df['Label'].cat.categories"
   ]
  },
  {
   "cell_type": "code",
   "execution_count": 107,
   "id": "9a7cabe9",
   "metadata": {},
   "outputs": [
    {
     "data": {
      "text/plain": [
       "0    0\n",
       "1    0\n",
       "2    0\n",
       "3    0\n",
       "4    0\n",
       "dtype: int8"
      ]
     },
     "execution_count": 107,
     "metadata": {},
     "output_type": "execute_result"
    }
   ],
   "source": [
    "df['Label'].cat.codes.head()"
   ]
  },
  {
   "cell_type": "code",
   "execution_count": 108,
   "id": "e9439478",
   "metadata": {},
   "outputs": [
    {
     "name": "stdout",
     "output_type": "stream",
     "text": [
      "Features: ['Dst Port' 'Protocol' 'Flow Duration' 'Tot Fwd Pkts' 'Tot Bwd Pkts'\n",
      " 'TotLen Fwd Pkts' 'TotLen Bwd Pkts' 'Fwd Pkt Len Max' 'Fwd Pkt Len Min'\n",
      " 'Fwd Pkt Len Mean' 'Fwd Pkt Len Std' 'Bwd Pkt Len Max' 'Bwd Pkt Len Min'\n",
      " 'Bwd Pkt Len Mean' 'Bwd Pkt Len Std' 'Flow Byts/s' 'Flow Pkts/s'\n",
      " 'Flow IAT Mean' 'Flow IAT Std' 'Flow IAT Max' 'Flow IAT Min'\n",
      " 'Fwd IAT Tot' 'Fwd IAT Mean' 'Fwd IAT Std' 'Fwd IAT Max' 'Fwd IAT Min'\n",
      " 'Bwd IAT Tot' 'Bwd IAT Mean' 'Bwd IAT Std' 'Bwd IAT Max' 'Bwd IAT Min'\n",
      " 'Fwd PSH Flags' 'Bwd PSH Flags' 'Fwd URG Flags' 'Bwd URG Flags'\n",
      " 'Fwd Header Len' 'Bwd Header Len' 'Fwd Pkts/s' 'Bwd Pkts/s' 'Pkt Len Min'\n",
      " 'Pkt Len Max' 'Pkt Len Mean' 'Pkt Len Std' 'Pkt Len Var' 'FIN Flag Cnt'\n",
      " 'SYN Flag Cnt' 'RST Flag Cnt' 'PSH Flag Cnt' 'ACK Flag Cnt'\n",
      " 'URG Flag Cnt' 'CWE Flag Count' 'ECE Flag Cnt' 'Down/Up Ratio'\n",
      " 'Pkt Size Avg' 'Fwd Seg Size Avg' 'Bwd Seg Size Avg' 'Fwd Byts/b Avg'\n",
      " 'Fwd Pkts/b Avg' 'Fwd Blk Rate Avg' 'Bwd Byts/b Avg' 'Bwd Pkts/b Avg'\n",
      " 'Bwd Blk Rate Avg' 'Subflow Fwd Pkts' 'Subflow Fwd Byts'\n",
      " 'Subflow Bwd Pkts' 'Subflow Bwd Byts' 'Init Fwd Win Byts'\n",
      " 'Init Bwd Win Byts' 'Fwd Act Data Pkts' 'Fwd Seg Size Min' 'Active Mean'\n",
      " 'Active Std' 'Active Max' 'Active Min' 'Idle Mean' 'Idle Std' 'Idle Max'\n",
      " 'Idle Min']\n"
     ]
    }
   ],
   "source": [
    "print('Features:',df.columns[:-1].values)"
   ]
  },
  {
   "cell_type": "code",
   "execution_count": 109,
   "id": "b3f7dfec",
   "metadata": {},
   "outputs": [
    {
     "name": "stdout",
     "output_type": "stream",
     "text": [
      "Value counts:\n"
     ]
    },
    {
     "data": {
      "text/plain": [
       "Benign    758334\n",
       "Bot       286191\n",
       "Name: Label, dtype: int64"
      ]
     },
     "execution_count": 109,
     "metadata": {},
     "output_type": "execute_result"
    }
   ],
   "source": [
    "print ('Value counts:')\n",
    "df['Label'].value_counts()"
   ]
  },
  {
   "cell_type": "code",
   "execution_count": 110,
   "id": "e56c9dd8",
   "metadata": {},
   "outputs": [],
   "source": [
    "X = df.drop('Label',axis=1)\n",
    "y = df['Label']"
   ]
  },
  {
   "cell_type": "code",
   "execution_count": 111,
   "id": "93f719c4",
   "metadata": {},
   "outputs": [],
   "source": [
    "X_train, X_test, y_train, y_test = train_test_split(X,y,test_size=0.25, random_state=101) # previous set to 101"
   ]
  },
  {
   "cell_type": "code",
   "execution_count": 112,
   "id": "69e948bb",
   "metadata": {},
   "outputs": [],
   "source": [
    "model = LogisticRegression()"
   ]
  },
  {
   "cell_type": "code",
   "execution_count": 113,
   "id": "0458634e",
   "metadata": {},
   "outputs": [
    {
     "data": {
      "text/plain": [
       "LogisticRegression()"
      ]
     },
     "execution_count": 113,
     "metadata": {},
     "output_type": "execute_result"
    }
   ],
   "source": [
    "model.fit(X_train,y_train)"
   ]
  },
  {
   "cell_type": "code",
   "execution_count": 114,
   "id": "3fe34610",
   "metadata": {},
   "outputs": [],
   "source": [
    "idx = 0 #random number\n",
    "single_x_test = [df.iloc[idx].drop('Label').tolist()]\n",
    "single_y_test = df.iloc[idx]['Label']"
   ]
  },
  {
   "cell_type": "code",
   "execution_count": 115,
   "id": "60bf4b5e",
   "metadata": {},
   "outputs": [
    {
     "name": "stdout",
     "output_type": "stream",
     "text": [
      "For this sample, our model predicted Benign and it was actually Benign\n"
     ]
    }
   ],
   "source": [
    "single_prediction = model.predict(single_x_test)\n",
    "print('For this sample, our model predicted %s and it was actually %s' % (single_prediction[0], single_y_test))"
   ]
  },
  {
   "cell_type": "code",
   "execution_count": 116,
   "id": "7f4515bf",
   "metadata": {},
   "outputs": [],
   "source": [
    "predictions = model.predict(X_test)"
   ]
  },
  {
   "cell_type": "code",
   "execution_count": 117,
   "id": "9a1e6b0e",
   "metadata": {},
   "outputs": [
    {
     "data": {
      "text/html": [
       "<div>\n",
       "<style scoped>\n",
       "    .dataframe tbody tr th:only-of-type {\n",
       "        vertical-align: middle;\n",
       "    }\n",
       "\n",
       "    .dataframe tbody tr th {\n",
       "        vertical-align: top;\n",
       "    }\n",
       "\n",
       "    .dataframe thead th {\n",
       "        text-align: right;\n",
       "    }\n",
       "</style>\n",
       "<table border=\"1\" class=\"dataframe\">\n",
       "  <thead>\n",
       "    <tr style=\"text-align: right;\">\n",
       "      <th></th>\n",
       "      <th>true</th>\n",
       "      <th>predicted</th>\n",
       "    </tr>\n",
       "  </thead>\n",
       "  <tbody>\n",
       "    <tr>\n",
       "      <th>527850</th>\n",
       "      <td>Benign</td>\n",
       "      <td>Benign</td>\n",
       "    </tr>\n",
       "    <tr>\n",
       "      <th>1018907</th>\n",
       "      <td>Benign</td>\n",
       "      <td>Benign</td>\n",
       "    </tr>\n",
       "    <tr>\n",
       "      <th>4497</th>\n",
       "      <td>Bot</td>\n",
       "      <td>Bot</td>\n",
       "    </tr>\n",
       "    <tr>\n",
       "      <th>720423</th>\n",
       "      <td>Benign</td>\n",
       "      <td>Benign</td>\n",
       "    </tr>\n",
       "    <tr>\n",
       "      <th>232154</th>\n",
       "      <td>Benign</td>\n",
       "      <td>Benign</td>\n",
       "    </tr>\n",
       "  </tbody>\n",
       "</table>\n",
       "</div>"
      ],
      "text/plain": [
       "           true predicted\n",
       "527850   Benign    Benign\n",
       "1018907  Benign    Benign\n",
       "4497        Bot       Bot\n",
       "720423   Benign    Benign\n",
       "232154   Benign    Benign"
      ]
     },
     "execution_count": 117,
     "metadata": {},
     "output_type": "execute_result"
    }
   ],
   "source": [
    "resultsDF = pd.DataFrame({\n",
    "        'true':y_test,\n",
    "        'predicted':predictions\n",
    "    })\n",
    "resultsDF.head()"
   ]
  },
  {
   "cell_type": "code",
   "execution_count": 118,
   "id": "406edf36",
   "metadata": {},
   "outputs": [
    {
     "name": "stdout",
     "output_type": "stream",
     "text": [
      "Accuracy: 87.14%\n"
     ]
    }
   ],
   "source": [
    "print('Accuracy: %.2f%%' % (accuracy_score(predictions,y_test)*100))"
   ]
  },
  {
   "cell_type": "code",
   "execution_count": 119,
   "id": "181cd5c9",
   "metadata": {},
   "outputs": [
    {
     "name": "stdout",
     "output_type": "stream",
     "text": [
      "4.0\n"
     ]
    }
   ],
   "source": [
    "print(pickle.format_version)"
   ]
  },
  {
   "cell_type": "code",
   "execution_count": 120,
   "id": "cc2de653",
   "metadata": {},
   "outputs": [],
   "source": [
    "pickle.dump(model,open('LogisticRegression','wb'))"
   ]
  },
  {
   "cell_type": "code",
   "execution_count": 121,
   "id": "9af7d833",
   "metadata": {},
   "outputs": [
    {
     "name": "stdout",
     "output_type": "stream",
     "text": [
      "[[184361  28265]\n",
      " [  5307  43199]]\n"
     ]
    }
   ],
   "source": [
    "cm = confusion_matrix(predictions,y_test, labels=y.cat.categories)\n",
    "print(cm)"
   ]
  },
  {
   "cell_type": "code",
   "execution_count": 122,
   "id": "88c837c8",
   "metadata": {},
   "outputs": [
    {
     "name": "stdout",
     "output_type": "stream",
     "text": [
      "        Benign    Bot\n",
      "Benign  184361  28265\n",
      "Bot       5307  43199\n"
     ]
    }
   ],
   "source": [
    "cmDF = pd.DataFrame()\n",
    "\n",
    "for i, row in enumerate(y.cat.categories):\n",
    "    temp = {}\n",
    "    for j, col in enumerate(y.cat.categories): \n",
    "        temp[col]=cm[i,j]\n",
    "    cmDF = cmDF.append(pd.DataFrame.from_dict({row:temp}, orient='index'))\n",
    "\n",
    "print(cmDF)"
   ]
  },
  {
   "cell_type": "code",
   "execution_count": 123,
   "id": "101bb3ec",
   "metadata": {},
   "outputs": [
    {
     "data": {
      "image/png": "[encoded data removed]",
      "text/plain": [
       "<Figure size 600x600 with 2 Axes>"
      ]
     },
     "metadata": {},
     "output_type": "display_data"
    }
   ],
   "source": [
    "plt.figure(figsize=(6,6))\n",
    "plt.imshow(cm, interpolation='nearest', cmap=plt.cm.Blues)\n",
    "plt.title('Confusion Matrix', fontsize=15)\n",
    "plt.colorbar()\n",
    "tick_marks = np.arange(len(y.unique()))\n",
    "plt.xticks(tick_marks, y.unique(), rotation=45, fontsize=12)\n",
    "plt.yticks(tick_marks, y.unique(), fontsize=12)\n",
    "plt.xlabel('True Label', fontsize=15)\n",
    "plt.ylabel('Predicted Label', fontsize=15)\n",
    "\n",
    "for i in range(len(cm)):\n",
    "    for j in range(len(cm[i])):\n",
    "        color = 'black'   \n",
    "        if cm[i][j] > 5:\n",
    "            color = 'white'\n",
    "        plt.text(j, i, format(cm[i][j]), \n",
    "                horizontalalignment='center',\n",
    "                color=color, fontsize=15)"
   ]
  },
  {
   "cell_type": "code",
   "execution_count": null,
   "id": "f96fd3cc",
   "metadata": {},
   "outputs": [],
   "source": []
  }
 ],
 "metadata": {
  "kernelspec": {
   "display_name": "Python 3 (ipykernel)",
   "language": "python",
   "name": "python3"
  },
  "language_info": {
   "codemirror_mode": {
    "name": "ipython",
    "version": 3
   },
   "file_extension": ".py",
   "mimetype": "text/x-python",
   "name": "python",
   "nbconvert_exporter": "python",
   "pygments_lexer": "ipython3",
   "version": "3.9.13"
  }
 },
 "nbformat": 4,
 "nbformat_minor": 5
}
